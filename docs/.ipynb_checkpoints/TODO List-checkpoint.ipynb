{
 "cells": [
  {
   "cell_type": "markdown",
   "metadata": {
    "collapsed": true
   },
   "source": [
    "- We will use Turkish Wikipedia dump as the first source.\n",
    "Download link: \n",
    "https://dumps.wikimedia.org/trwiki/latest/trwiki-latest-pages-articles.xml.bz2\n",
    "- XML and Wikipedia Tags are going to be cleaned.\n",
    "  - try to understand gensim package\n",
    "  - extend the gensim packgage to handle trwikipedia"
   ]
  },
  {
   "cell_type": "code",
   "execution_count": null,
   "metadata": {},
   "outputs": [],
   "source": [
    "\n",
    "\n"
   ]
  }
 ],
 "metadata": {
  "kernelspec": {
   "display_name": "Python 3",
   "language": "python",
   "name": "python3"
  },
  "language_info": {
   "codemirror_mode": {
    "name": "ipython",
    "version": 3
   },
   "file_extension": ".py",
   "mimetype": "text/x-python",
   "name": "python",
   "nbconvert_exporter": "python",
   "pygments_lexer": "ipython3",
   "version": "3.6.8"
  }
 },
 "nbformat": 4,
 "nbformat_minor": 1
}
